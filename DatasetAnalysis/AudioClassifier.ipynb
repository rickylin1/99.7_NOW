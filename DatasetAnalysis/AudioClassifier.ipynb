{
 "cells": [
  {
   "cell_type": "code",
   "execution_count": 5,
   "metadata": {},
   "outputs": [
    {
     "data": {
      "text/plain": [
       "1     https://p.scdn.co/mp3-preview/59f68f3e96233e3c352659053dd48039790cd965?cid=5f736022721243569883acdc831ebc90\n",
       "2     https://p.scdn.co/mp3-preview/fc780d2d7634024c170723c769cca145d298e53f?cid=5f736022721243569883acdc831ebc90\n",
       "3     https://p.scdn.co/mp3-preview/6890d6f0749ecec39ce0bc1811b144ba1c19f7ee?cid=5f736022721243569883acdc831ebc90\n",
       "4     https://p.scdn.co/mp3-preview/8fc181a40905456c5d8084ba2fe26e469319baba?cid=5f736022721243569883acdc831ebc90\n",
       "5     https://p.scdn.co/mp3-preview/c98feacb51b83d5a0490ea9886a5b25a7f4afec7?cid=5f736022721243569883acdc831ebc90\n",
       "6     https://p.scdn.co/mp3-preview/dac105442fc83b3b2a8cbd238ffa9d898d73e805?cid=5f736022721243569883acdc831ebc90\n",
       "7     https://p.scdn.co/mp3-preview/150814aafbffda9f179776fba32b4620b4d87c1a?cid=5f736022721243569883acdc831ebc90\n",
       "8     https://p.scdn.co/mp3-preview/3cc58eff7a43e53f29af0f5fb0dc29f76c6819c5?cid=5f736022721243569883acdc831ebc90\n",
       "9     https://p.scdn.co/mp3-preview/37beb1785c5a3f9fa734af22d64571d42449fe22?cid=5f736022721243569883acdc831ebc90\n",
       "10    https://p.scdn.co/mp3-preview/46a0d4c68e70de86b95b995c45bc5d77030d4499?cid=5f736022721243569883acdc831ebc90\n",
       "11    https://p.scdn.co/mp3-preview/70b75773ba2aa0369527eef1b903a593d1fdec38?cid=5f736022721243569883acdc831ebc90\n",
       "12    https://p.scdn.co/mp3-preview/4743d8302c54f95d6f79858b7c67764b1d45e9a3?cid=5f736022721243569883acdc831ebc90\n",
       "13    https://p.scdn.co/mp3-preview/57e7de014a7acab18199fc89008f15da42583e5a?cid=5f736022721243569883acdc831ebc90\n",
       "14    https://p.scdn.co/mp3-preview/a875f5d36c0ac4181e62db527f06ba91ac342a7f?cid=5f736022721243569883acdc831ebc90\n",
       "15    https://p.scdn.co/mp3-preview/daf8f5e93daa712ee93c2c5b2778fcaa39194dc5?cid=5f736022721243569883acdc831ebc90\n",
       "16    https://p.scdn.co/mp3-preview/b472a5accc56fcd0c0f8890c43a348c193c5c4eb?cid=5f736022721243569883acdc831ebc90\n",
       "17    https://p.scdn.co/mp3-preview/674592fd5a8a1c2342e4ea463b7f1ad73a9092fb?cid=5f736022721243569883acdc831ebc90\n",
       "18    https://p.scdn.co/mp3-preview/b62efc34ec3502ecfb2bcd8e8f1d0bce419aad63?cid=5f736022721243569883acdc831ebc90\n",
       "19    https://p.scdn.co/mp3-preview/65c585c914c63a645e062e44f29286c939bfccc0?cid=5f736022721243569883acdc831ebc90\n",
       "20    https://p.scdn.co/mp3-preview/9b345214e5a476d7be462c641b239518d733947e?cid=5f736022721243569883acdc831ebc90\n",
       "21    https://p.scdn.co/mp3-preview/258a571c0ae04c58dad7ff59c49b0bd39cb1986b?cid=5f736022721243569883acdc831ebc90\n",
       "22    https://p.scdn.co/mp3-preview/28460c7c8e38095330b4952c54d09345bf7f94db?cid=5f736022721243569883acdc831ebc90\n",
       "23    https://p.scdn.co/mp3-preview/e712d3879f6cb89aa0984c71bb7e93a77244a446?cid=5f736022721243569883acdc831ebc90\n",
       "24    https://p.scdn.co/mp3-preview/d47b7a2e65b5c28b64129d1d4199de4313ec9255?cid=5f736022721243569883acdc831ebc90\n",
       "25    https://p.scdn.co/mp3-preview/983de068c80573fc764694143027eb747ad6ceb2?cid=5f736022721243569883acdc831ebc90\n",
       "26    https://p.scdn.co/mp3-preview/ca7bdcb691fb64a5af8a3253b89356390664fcf1?cid=5f736022721243569883acdc831ebc90\n",
       "27    https://p.scdn.co/mp3-preview/f7d89b3a4516027dedf66bc58ba051802ee899bc?cid=5f736022721243569883acdc831ebc90\n",
       "28    https://p.scdn.co/mp3-preview/802db11243c497dfce4098c647afc6e8b572a441?cid=5f736022721243569883acdc831ebc90\n",
       "29    https://p.scdn.co/mp3-preview/daae5c6bffc5bf5a407041deb207bba4da5b4f9b?cid=5f736022721243569883acdc831ebc90\n",
       "30    https://p.scdn.co/mp3-preview/5e78a5f04c7fc929356fe04dd473da856e00867a?cid=5f736022721243569883acdc831ebc90\n",
       "31    https://p.scdn.co/mp3-preview/f994bfa635fafe159f70b621f7a9ad09a1a6ccd4?cid=5f736022721243569883acdc831ebc90\n",
       "32    https://p.scdn.co/mp3-preview/add475b56582a3bdad79050e5d170d2d7033cdb5?cid=5f736022721243569883acdc831ebc90\n",
       "33    https://p.scdn.co/mp3-preview/4e36fea3860297c44d175335a5b20038fc610e09?cid=5f736022721243569883acdc831ebc90\n",
       "34    https://p.scdn.co/mp3-preview/f22571049c9a70cf4699b5f114ed2b33003b86b5?cid=5f736022721243569883acdc831ebc90\n",
       "35    https://p.scdn.co/mp3-preview/eaedc153371a68d0b669113d6476192455f2311d?cid=5f736022721243569883acdc831ebc90\n",
       "36    https://p.scdn.co/mp3-preview/ba484d833543f117e7211fed03ffe90f409f1293?cid=5f736022721243569883acdc831ebc90\n",
       "37    https://p.scdn.co/mp3-preview/b2fd1208b83b14121c261cfc1e74ec4439a16c8f?cid=5f736022721243569883acdc831ebc90\n",
       "38    https://p.scdn.co/mp3-preview/0611c318539924ebddcb9b8a86860fd667de0d91?cid=5f736022721243569883acdc831ebc90\n",
       "39    https://p.scdn.co/mp3-preview/8d53e9726efbc9a6c8acc1835476fd99d4f9b96b?cid=5f736022721243569883acdc831ebc90\n",
       "40    https://p.scdn.co/mp3-preview/1d518d7976de00a47563432cbdf7bc67af8dd987?cid=5f736022721243569883acdc831ebc90\n",
       "41    https://p.scdn.co/mp3-preview/4b0178cf6991f59db18e12e2219ff11e27474b0a?cid=5f736022721243569883acdc831ebc90\n",
       "42    https://p.scdn.co/mp3-preview/75db3fa8425153819a2f46794a403854f9a45dce?cid=5f736022721243569883acdc831ebc90\n",
       "43    https://p.scdn.co/mp3-preview/b88bb67053d090a2970fc763cea0489e39beb570?cid=5f736022721243569883acdc831ebc90\n",
       "44    https://p.scdn.co/mp3-preview/b288d1b3245bfa82243267c77fe152dbd696f3c8?cid=5f736022721243569883acdc831ebc90\n",
       "45    https://p.scdn.co/mp3-preview/a3d57978f4a877124d87238ed9b5217f45cd95c5?cid=5f736022721243569883acdc831ebc90\n",
       "46    https://p.scdn.co/mp3-preview/b7eebf69c35c95e49505405bc14b9e78fe3c4736?cid=5f736022721243569883acdc831ebc90\n",
       "47    https://p.scdn.co/mp3-preview/eb8637eac57c761bc305cd0324fb534b99e765b3?cid=5f736022721243569883acdc831ebc90\n",
       "48    https://p.scdn.co/mp3-preview/b18df331bd49862402efd2a958b1dba03a69e8f4?cid=5f736022721243569883acdc831ebc90\n",
       "49    https://p.scdn.co/mp3-preview/ec2aa022fe7021077dc988f6d953c71222636cfb?cid=5f736022721243569883acdc831ebc90\n",
       "50    https://p.scdn.co/mp3-preview/94cf6a4e7df256464aa0a91ee048c901185a8964?cid=5f736022721243569883acdc831ebc90\n",
       "Name: preview_url, dtype: object"
      ]
     },
     "execution_count": 5,
     "metadata": {},
     "output_type": "execute_result"
    }
   ],
   "source": [
    "%store -r top_tracks\n",
    "import pandas as pd \n",
    "\n",
    "pd.set_option('display.max_colwidth', None)\n",
    "top_tracks['preview_url']"
   ]
  },
  {
   "cell_type": "code",
   "execution_count": 14,
   "metadata": {},
   "outputs": [
    {
     "name": "stdout",
     "output_type": "stream",
     "text": [
      "Downloaded tracks/track_1.mp3\n",
      "Downloaded tracks/track_2.mp3\n",
      "Downloaded tracks/track_3.mp3\n",
      "Downloaded tracks/track_4.mp3\n",
      "Downloaded tracks/track_5.mp3\n",
      "Downloaded tracks/track_6.mp3\n",
      "Downloaded tracks/track_7.mp3\n",
      "Downloaded tracks/track_8.mp3\n",
      "Downloaded tracks/track_9.mp3\n",
      "Downloaded tracks/track_10.mp3\n",
      "Downloaded tracks/track_11.mp3\n",
      "Downloaded tracks/track_12.mp3\n",
      "Downloaded tracks/track_13.mp3\n",
      "Downloaded tracks/track_14.mp3\n",
      "Downloaded tracks/track_15.mp3\n",
      "Downloaded tracks/track_16.mp3\n",
      "Downloaded tracks/track_17.mp3\n",
      "Downloaded tracks/track_18.mp3\n",
      "Downloaded tracks/track_19.mp3\n",
      "Downloaded tracks/track_20.mp3\n",
      "Downloaded tracks/track_21.mp3\n",
      "Downloaded tracks/track_22.mp3\n",
      "Downloaded tracks/track_23.mp3\n",
      "Downloaded tracks/track_24.mp3\n",
      "Downloaded tracks/track_25.mp3\n",
      "Downloaded tracks/track_26.mp3\n",
      "Downloaded tracks/track_27.mp3\n",
      "Downloaded tracks/track_28.mp3\n",
      "Downloaded tracks/track_29.mp3\n",
      "Downloaded tracks/track_30.mp3\n",
      "Downloaded tracks/track_31.mp3\n",
      "Downloaded tracks/track_32.mp3\n",
      "Downloaded tracks/track_33.mp3\n",
      "Downloaded tracks/track_34.mp3\n",
      "Downloaded tracks/track_35.mp3\n",
      "Downloaded tracks/track_36.mp3\n",
      "Downloaded tracks/track_37.mp3\n",
      "Downloaded tracks/track_38.mp3\n",
      "Downloaded tracks/track_39.mp3\n",
      "Downloaded tracks/track_40.mp3\n",
      "Downloaded tracks/track_41.mp3\n",
      "Downloaded tracks/track_42.mp3\n",
      "Downloaded tracks/track_43.mp3\n",
      "Downloaded tracks/track_44.mp3\n",
      "Downloaded tracks/track_45.mp3\n",
      "Downloaded tracks/track_46.mp3\n",
      "Downloaded tracks/track_47.mp3\n",
      "Downloaded tracks/track_48.mp3\n",
      "Downloaded tracks/track_49.mp3\n",
      "Downloaded tracks/track_50.mp3\n"
     ]
    }
   ],
   "source": [
    "import requests\n",
    "import os\n",
    "\n",
    "# Create a folder to save the MP3 files\n",
    "output_folder = 'tracks'\n",
    "os.makedirs(output_folder, exist_ok=True)\n",
    "\n",
    "def download_mp3(url, filename):\n",
    "    try:\n",
    "        response = requests.get(url, stream=True)\n",
    "        response.raise_for_status()  # Check if the request was successful\n",
    "\n",
    "        with open(filename, 'wb') as f:\n",
    "            for chunk in response.iter_content(chunk_size=8192):\n",
    "                f.write(chunk)\n",
    "        print(f\"Downloaded {filename}\")\n",
    "    except requests.exceptions.RequestException as e:\n",
    "        print(f\"Failed to download {url}: {e}\")\n",
    "\n",
    "# Download each URL\n",
    "for i, track in enumerate(top_tracks['preview_url']):\n",
    "    filename = os.path.join(output_folder, f\"track_{i+1}.mp3\")\n",
    "    download_mp3(track, filename)\n"
   ]
  },
  {
   "cell_type": "code",
   "execution_count": 2,
   "metadata": {},
   "outputs": [],
   "source": [
    "import tensorflow as tf\n",
    "import tensorflow_io as tfio\n",
    "import os"
   ]
  },
  {
   "cell_type": "code",
   "execution_count": 26,
   "metadata": {},
   "outputs": [
    {
     "name": "stdout",
     "output_type": "stream",
     "text": [
      "2.16.1\n",
      "0.37.0\n",
      "/usr/local/bin:/Users/fluffy/Library/Python/3.11/bin:/Library/Frameworks/Python.framework/Versions/3.12/bin:/Library/Frameworks/Python.framework/Versions/3.11/bin:/opt/homebrew/bin:/opt/homebrew/sbin:/usr/local/bin:/System/Cryptexes/App/usr/bin:/usr/bin:/bin:/usr/sbin:/sbin:/var/run/com.apple.security.cryptexd/codex.system/bootstrap/usr/local/bin:/var/run/com.apple.security.cryptexd/codex.system/bootstrap/usr/bin:/var/run/com.apple.security.cryptexd/codex.system/bootstrap/usr/appleinternal/bin:/Library/Apple/usr/bin:/Library/Frameworks/Python.framework/Versions/3.12/bin:/Library/Frameworks/Python.framework/Versions/3.11/bin:/opt/homebrew/bin:/opt/homebrew/sbin:/Users/fluffy/.nvm/versions/node/v18.18.0/bin:/path/to/driver:/Library/Frameworks/Python.framework/Versions/3.12/bin:/Library/Frameworks/Python.framework/Versions/3.11/bin:/opt/homebrew/bin:/opt/homebrew/sbin:/usr/local/bin:/System/Cryptexes/App/usr/bin:/usr/bin:/bin:/usr/sbin:/sbin:/var/run/com.apple.security.cryptexd/codex.system/bootstrap/usr/local/bin:/var/run/com.apple.security.cryptexd/codex.system/bootstrap/usr/bin:/var/run/com.apple.security.cryptexd/codex.system/bootstrap/usr/appleinternal/bin:/Library/Apple/usr/bin:/Library/Frameworks/Python.framework/Versions/3.12/bin:/Library/Frameworks/Python.framework/Versions/3.11/bin:/opt/homebrew/bin:/opt/homebrew/sbin:/Users/fluffy/.nvm/versions/node/v18.18.0/bin:/path/to/driver\n"
     ]
    }
   ],
   "source": [
    "# HipHop = os.path.join('tracks', 'HipHop', 'track_2.mp3')\n",
    "# NotHipHop = os.path.join('tracks','NotHipHop', 'track_1.mp3')\n",
    "print(tf.__version__)\n",
    "print(tfio.__version__)\n",
    "print(os.environ['PATH'])\n",
    "#make sure the tf and tfio are compatible versions that use the same python interpreter, can check on tensorflow github\n",
    "#can run juypter server by running in terminal \"juypter notebook\" and then launching kernel with that local http url"
   ]
  },
  {
   "cell_type": "code",
   "execution_count": null,
   "metadata": {},
   "outputs": [],
   "source": []
  }
 ],
 "metadata": {
  "kernelspec": {
   "display_name": "Python 3",
   "language": "python",
   "name": "python3"
  },
  "language_info": {
   "codemirror_mode": {
    "name": "ipython",
    "version": 3
   },
   "file_extension": ".py",
   "mimetype": "text/x-python",
   "name": "python",
   "nbconvert_exporter": "python",
   "pygments_lexer": "ipython3",
   "version": "3.11.4"
  }
 },
 "nbformat": 4,
 "nbformat_minor": 2
}
